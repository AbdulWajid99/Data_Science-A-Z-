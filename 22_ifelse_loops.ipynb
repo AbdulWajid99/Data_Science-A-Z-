{
 "cells": [
  {
   "cell_type": "code",
   "execution_count": 4,
   "metadata": {},
   "outputs": [
    {
     "name": "stdout",
     "output_type": "stream",
     "text": [
      "Fine\n"
     ]
    }
   ],
   "source": [
    "#normal if satements\n",
    "a=12\n",
    "b=12\n",
    "c=33\n",
    "if(a<b):\n",
    "    print(\"Okay\")\n",
    "elif(a==b):\n",
    "    print(\"Fine\")\n",
    "else:\n",
    "    print(\"Not Okay\")"
   ]
  },
  {
   "cell_type": "code",
   "execution_count": 7,
   "metadata": {},
   "outputs": [
    {
     "name": "stdout",
     "output_type": "stream",
     "text": [
      "Not Okay\n"
     ]
    }
   ],
   "source": [
    "#Nested if satements\n",
    "if(a>b):\n",
    "    if(a>c):\n",
    "        print(\"okay\")\n",
    "    else:\n",
    "        print(\"Still not Okay\")\n",
    "else:\n",
    "    print('Not Okay')\n",
    "    "
   ]
  },
  {
   "cell_type": "code",
   "execution_count": 8,
   "metadata": {},
   "outputs": [
    {
     "name": "stdout",
     "output_type": "stream",
     "text": [
      "Data Scientist\n",
      "Data Scientist\n",
      "Data Scientist\n",
      "Data Scientist\n",
      "Data Scientist\n",
      "Data Scientist\n",
      "Data Scientist\n",
      "Data Scientist\n",
      "Data Scientist\n",
      "Data Scientist\n"
     ]
    }
   ],
   "source": [
    "#Loops\n",
    "for i in range(10):\n",
    "    print(\"Data Scientist\")"
   ]
  },
  {
   "cell_type": "code",
   "execution_count": 11,
   "metadata": {},
   "outputs": [
    {
     "name": "stdout",
     "output_type": "stream",
     "text": [
      "I am Wajid\n",
      "I am Abdul\n",
      "I am Maverick\n"
     ]
    }
   ],
   "source": [
    "Names=['Wajid','Abdul','Maverick']\n",
    "for i in Names:\n",
    "    print('I am ' + i)"
   ]
  },
  {
   "cell_type": "code",
   "execution_count": 1,
   "metadata": {},
   "outputs": [
    {
     "name": "stdout",
     "output_type": "stream",
     "text": [
      "4\n",
      "4\n",
      "8\n",
      "12\n",
      "16\n",
      "20\n"
     ]
    }
   ],
   "source": [
    "list_1 = [1,1,2,3,4,5]\n",
    "for i in list_1:\n",
    "    print(i*4)"
   ]
  },
  {
   "cell_type": "code",
   "execution_count": 8,
   "metadata": {},
   "outputs": [
    {
     "name": "stdout",
     "output_type": "stream",
     "text": [
      "105\n",
      "15\n"
     ]
    }
   ],
   "source": [
    "i= 0\n",
    "sum1=0\n",
    "count=0\n",
    "while sum1<100:\n",
    "    sum1+=i\n",
    "    i +=1\n",
    "    count+=1 #to count how many time loop has been run\n",
    "print(sum1)\n",
    "\n",
    "print(count)"
   ]
  },
  {
   "cell_type": "code",
   "execution_count": null,
   "metadata": {},
   "outputs": [],
   "source": []
  }
 ],
 "metadata": {
  "kernelspec": {
   "display_name": "Python 3",
   "language": "python",
   "name": "python3"
  },
  "language_info": {
   "codemirror_mode": {
    "name": "ipython",
    "version": 3
   },
   "file_extension": ".py",
   "mimetype": "text/x-python",
   "name": "python",
   "nbconvert_exporter": "python",
   "pygments_lexer": "ipython3",
   "version": "3.7.6"
  }
 },
 "nbformat": 4,
 "nbformat_minor": 4
}
