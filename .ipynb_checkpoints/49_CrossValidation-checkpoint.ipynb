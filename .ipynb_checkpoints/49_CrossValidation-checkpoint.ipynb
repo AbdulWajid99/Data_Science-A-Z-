{
 "cells": [
  {
   "cell_type": "code",
   "execution_count": 8,
   "metadata": {},
   "outputs": [],
   "source": [
    "from sklearn import datasets, linear_model  #importing datset and linera model libarries\n",
    "from sklearn.model_selection import cross_val_score # main function to do all stuff"
   ]
  },
  {
   "cell_type": "code",
   "execution_count": 9,
   "metadata": {},
   "outputs": [
    {
     "name": "stdout",
     "output_type": "stream",
     "text": [
      "[0.33150734 0.08022311 0.03531764]\n"
     ]
    }
   ],
   "source": [
    "diabeties = datasets.load_diabetes() # loading dataset\n",
    "X= diabeties.data[:150] # features\n",
    "Y= diabeties.target[:150] #targets\n",
    "\n",
    "lasso = linear_model.Lasso()\n",
    "print(cross_val_score(lasso,X,Y, cv=3))"
   ]
  },
  {
   "cell_type": "code",
   "execution_count": null,
   "metadata": {},
   "outputs": [],
   "source": []
  }
 ],
 "metadata": {
  "kernelspec": {
   "display_name": "Python 3",
   "language": "python",
   "name": "python3"
  },
  "language_info": {
   "codemirror_mode": {
    "name": "ipython",
    "version": 3
   },
   "file_extension": ".py",
   "mimetype": "text/x-python",
   "name": "python",
   "nbconvert_exporter": "python",
   "pygments_lexer": "ipython3",
   "version": "3.8.5"
  }
 },
 "nbformat": 4,
 "nbformat_minor": 4
}
