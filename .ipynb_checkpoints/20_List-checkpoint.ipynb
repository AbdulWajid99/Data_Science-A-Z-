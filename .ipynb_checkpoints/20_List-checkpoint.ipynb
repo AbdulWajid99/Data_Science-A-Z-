{
 "cells": [
  {
   "cell_type": "code",
   "execution_count": 5,
   "metadata": {},
   "outputs": [
    {
     "name": "stdout",
     "output_type": "stream",
     "text": [
      "['Charade', 'BMW', 'G-Wagon', 4500, 4.5, 2j]\n"
     ]
    },
    {
     "data": {
      "text/plain": [
       "'BMW'"
      ]
     },
     "execution_count": 5,
     "metadata": {},
     "output_type": "execute_result"
    }
   ],
   "source": [
    "#List\n",
    "Cars = ['Charade', 'BMW', 'G-Wagon',4500, 4.5, 2j]\n",
    "print(Cars)\n",
    "Cars[1]\n"
   ]
  },
  {
   "cell_type": "code",
   "execution_count": 16,
   "metadata": {},
   "outputs": [
    {
     "name": "stdout",
     "output_type": "stream",
     "text": [
      "['G-Wagon', 4500]\n",
      "['Charade', 'BMW', 'G-Wagon', 4500]\n",
      "['G-Wagon', 4500, 4.5, 2j, 'S-Class']\n"
     ]
    }
   ],
   "source": [
    "print(Cars[2:4])\n",
    "print(Cars[:4])\n",
    "print(Cars[2:])"
   ]
  },
  {
   "cell_type": "code",
   "execution_count": 10,
   "metadata": {},
   "outputs": [],
   "source": [
    "Cars.append(\"S-Class\")"
   ]
  },
  {
   "cell_type": "code",
   "execution_count": 19,
   "metadata": {},
   "outputs": [
    {
     "data": {
      "text/plain": [
       "['Charade', 'BMW', 'G-Wagon', 2j, 'S-Class']"
      ]
     },
     "execution_count": 19,
     "metadata": {},
     "output_type": "execute_result"
    }
   ],
   "source": [
    "del Cars[3]\n",
    "Cars"
   ]
  },
  {
   "cell_type": "code",
   "execution_count": 25,
   "metadata": {},
   "outputs": [
    {
     "data": {
      "text/plain": [
       "['Charade', 'BMW', 'G-Wagon', 2j, 'S-Class', 2332, 23, 2, 332, 3, 23, 23]"
      ]
     },
     "execution_count": 25,
     "metadata": {},
     "output_type": "execute_result"
    }
   ],
   "source": [
    "Rates=[2332,23,2,332,3,23,23,]\n",
    "#Join two Lists\n",
    "Name= Cars + Rates\n",
    "Name"
   ]
  },
  {
   "cell_type": "code",
   "execution_count": 27,
   "metadata": {},
   "outputs": [
    {
     "name": "stdout",
     "output_type": "stream",
     "text": [
      "5\n",
      "12\n"
     ]
    }
   ],
   "source": [
    "print(len(Cars))\n",
    "print(len(Name))"
   ]
  },
  {
   "cell_type": "code",
   "execution_count": 43,
   "metadata": {},
   "outputs": [
    {
     "data": {
      "text/plain": [
       "[41, 41, 41, 41]"
      ]
     },
     "execution_count": 43,
     "metadata": {},
     "output_type": "execute_result"
    }
   ],
   "source": [
    "#get same number multiple times in a list\n",
    "Numbers = [41]*4\n",
    "Numbers"
   ]
  },
  {
   "cell_type": "code",
   "execution_count": 44,
   "metadata": {},
   "outputs": [],
   "source": [
    "#for multiplyingor add or subtract eacg element in list we do this\n",
    "Numbers[1]=Numbers[1]*4"
   ]
  },
  {
   "cell_type": "code",
   "execution_count": 45,
   "metadata": {},
   "outputs": [
    {
     "data": {
      "text/plain": [
       "[41, 164, 41, 41]"
      ]
     },
     "execution_count": 45,
     "metadata": {},
     "output_type": "execute_result"
    }
   ],
   "source": [
    "Numbers"
   ]
  },
  {
   "cell_type": "code",
   "execution_count": 52,
   "metadata": {},
   "outputs": [
    {
     "name": "stdout",
     "output_type": "stream",
     "text": [
      "[41, 164, 41, 41]\n",
      "[40, 163, 40, 40]\n"
     ]
    }
   ],
   "source": [
    "  new_list = []\n",
    "for i in Numbers: # i takes list values one by one\n",
    "    j= i-1\n",
    "    new_list.append(j)\n",
    "    \n",
    "print(Numbers)\n",
    "print(new_list)"
   ]
  },
  {
   "cell_type": "code",
   "execution_count": null,
   "metadata": {},
   "outputs": [],
   "source": []
  }
 ],
 "metadata": {
  "kernelspec": {
   "display_name": "Python 3",
   "language": "python",
   "name": "python3"
  },
  "language_info": {
   "codemirror_mode": {
    "name": "ipython",
    "version": 3
   },
   "file_extension": ".py",
   "mimetype": "text/x-python",
   "name": "python",
   "nbconvert_exporter": "python",
   "pygments_lexer": "ipython3",
   "version": "3.7.6"
  }
 },
 "nbformat": 4,
 "nbformat_minor": 4
}
