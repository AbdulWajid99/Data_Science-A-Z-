{
 "cells": [
  {
   "cell_type": "code",
   "execution_count": 1,
   "metadata": {},
   "outputs": [],
   "source": [
    "import pandas as pd\n",
    "import matplotlib.pyplot as plt"
   ]
  },
  {
   "cell_type": "code",
   "execution_count": 2,
   "metadata": {},
   "outputs": [
    {
     "data": {
      "text/html": [
       "<div>\n",
       "<style scoped>\n",
       "    .dataframe tbody tr th:only-of-type {\n",
       "        vertical-align: middle;\n",
       "    }\n",
       "\n",
       "    .dataframe tbody tr th {\n",
       "        vertical-align: top;\n",
       "    }\n",
       "\n",
       "    .dataframe thead th {\n",
       "        text-align: right;\n",
       "    }\n",
       "</style>\n",
       "<table border=\"1\" class=\"dataframe\">\n",
       "  <thead>\n",
       "    <tr style=\"text-align: right;\">\n",
       "      <th></th>\n",
       "      <th>Id</th>\n",
       "      <th>SepalLengthCm</th>\n",
       "      <th>SepalWidthCm</th>\n",
       "      <th>PetalLengthCm</th>\n",
       "      <th>PetalWidthCm</th>\n",
       "      <th>Species</th>\n",
       "    </tr>\n",
       "  </thead>\n",
       "  <tbody>\n",
       "    <tr>\n",
       "      <th>0</th>\n",
       "      <td>1</td>\n",
       "      <td>5.1</td>\n",
       "      <td>3.5</td>\n",
       "      <td>1.4</td>\n",
       "      <td>0.2</td>\n",
       "      <td>Iris-setosa</td>\n",
       "    </tr>\n",
       "    <tr>\n",
       "      <th>1</th>\n",
       "      <td>2</td>\n",
       "      <td>4.9</td>\n",
       "      <td>3.0</td>\n",
       "      <td>1.4</td>\n",
       "      <td>0.2</td>\n",
       "      <td>Iris-setosa</td>\n",
       "    </tr>\n",
       "    <tr>\n",
       "      <th>2</th>\n",
       "      <td>3</td>\n",
       "      <td>4.7</td>\n",
       "      <td>3.2</td>\n",
       "      <td>1.3</td>\n",
       "      <td>0.2</td>\n",
       "      <td>Iris-setosa</td>\n",
       "    </tr>\n",
       "    <tr>\n",
       "      <th>3</th>\n",
       "      <td>4</td>\n",
       "      <td>4.6</td>\n",
       "      <td>3.1</td>\n",
       "      <td>1.5</td>\n",
       "      <td>0.2</td>\n",
       "      <td>Iris-setosa</td>\n",
       "    </tr>\n",
       "    <tr>\n",
       "      <th>4</th>\n",
       "      <td>5</td>\n",
       "      <td>5.0</td>\n",
       "      <td>3.6</td>\n",
       "      <td>1.4</td>\n",
       "      <td>0.2</td>\n",
       "      <td>Iris-setosa</td>\n",
       "    </tr>\n",
       "  </tbody>\n",
       "</table>\n",
       "</div>"
      ],
      "text/plain": [
       "   Id  SepalLengthCm  SepalWidthCm  PetalLengthCm  PetalWidthCm      Species\n",
       "0   1            5.1           3.5            1.4           0.2  Iris-setosa\n",
       "1   2            4.9           3.0            1.4           0.2  Iris-setosa\n",
       "2   3            4.7           3.2            1.3           0.2  Iris-setosa\n",
       "3   4            4.6           3.1            1.5           0.2  Iris-setosa\n",
       "4   5            5.0           3.6            1.4           0.2  Iris-setosa"
      ]
     },
     "execution_count": 2,
     "metadata": {},
     "output_type": "execute_result"
    }
   ],
   "source": [
    "irisDataset = pd.read_csv(\"E:\\Data_Scientist\\Skill_Share(DataScienceCourse)\\Datasets\\Iris_dataset_28.csv\")\n",
    "irisDataset.head()"
   ]
  },
  {
   "cell_type": "code",
   "execution_count": 3,
   "metadata": {},
   "outputs": [
    {
     "data": {
      "text/plain": [
       "(150, 6)"
      ]
     },
     "execution_count": 3,
     "metadata": {},
     "output_type": "execute_result"
    }
   ],
   "source": [
    "irisDataset.shape"
   ]
  },
  {
   "cell_type": "code",
   "execution_count": 4,
   "metadata": {},
   "outputs": [],
   "source": [
    "irisDataset1 = irisDataset.drop(columns = ['Id'],axis= 1)"
   ]
  },
  {
   "cell_type": "code",
   "execution_count": 5,
   "metadata": {},
   "outputs": [],
   "source": [
    "#since its K-means i.e unsupervised learning wee remove species column\n",
    "irisDataset1= irisDataset1.drop(columns = ['Species'],axis= 1)"
   ]
  },
  {
   "cell_type": "code",
   "execution_count": 6,
   "metadata": {},
   "outputs": [
    {
     "data": {
      "text/html": [
       "<div>\n",
       "<style scoped>\n",
       "    .dataframe tbody tr th:only-of-type {\n",
       "        vertical-align: middle;\n",
       "    }\n",
       "\n",
       "    .dataframe tbody tr th {\n",
       "        vertical-align: top;\n",
       "    }\n",
       "\n",
       "    .dataframe thead th {\n",
       "        text-align: right;\n",
       "    }\n",
       "</style>\n",
       "<table border=\"1\" class=\"dataframe\">\n",
       "  <thead>\n",
       "    <tr style=\"text-align: right;\">\n",
       "      <th></th>\n",
       "      <th>SepalLengthCm</th>\n",
       "      <th>SepalWidthCm</th>\n",
       "      <th>PetalLengthCm</th>\n",
       "      <th>PetalWidthCm</th>\n",
       "    </tr>\n",
       "  </thead>\n",
       "  <tbody>\n",
       "    <tr>\n",
       "      <th>0</th>\n",
       "      <td>5.1</td>\n",
       "      <td>3.5</td>\n",
       "      <td>1.4</td>\n",
       "      <td>0.2</td>\n",
       "    </tr>\n",
       "    <tr>\n",
       "      <th>1</th>\n",
       "      <td>4.9</td>\n",
       "      <td>3.0</td>\n",
       "      <td>1.4</td>\n",
       "      <td>0.2</td>\n",
       "    </tr>\n",
       "    <tr>\n",
       "      <th>2</th>\n",
       "      <td>4.7</td>\n",
       "      <td>3.2</td>\n",
       "      <td>1.3</td>\n",
       "      <td>0.2</td>\n",
       "    </tr>\n",
       "    <tr>\n",
       "      <th>3</th>\n",
       "      <td>4.6</td>\n",
       "      <td>3.1</td>\n",
       "      <td>1.5</td>\n",
       "      <td>0.2</td>\n",
       "    </tr>\n",
       "    <tr>\n",
       "      <th>4</th>\n",
       "      <td>5.0</td>\n",
       "      <td>3.6</td>\n",
       "      <td>1.4</td>\n",
       "      <td>0.2</td>\n",
       "    </tr>\n",
       "  </tbody>\n",
       "</table>\n",
       "</div>"
      ],
      "text/plain": [
       "   SepalLengthCm  SepalWidthCm  PetalLengthCm  PetalWidthCm\n",
       "0            5.1           3.5            1.4           0.2\n",
       "1            4.9           3.0            1.4           0.2\n",
       "2            4.7           3.2            1.3           0.2\n",
       "3            4.6           3.1            1.5           0.2\n",
       "4            5.0           3.6            1.4           0.2"
      ]
     },
     "execution_count": 6,
     "metadata": {},
     "output_type": "execute_result"
    }
   ],
   "source": [
    "irisDataset1.head()"
   ]
  },
  {
   "cell_type": "code",
   "execution_count": 10,
   "metadata": {},
   "outputs": [
    {
     "name": "stdout",
     "output_type": "stream",
     "text": [
      "[[3.5 0.2]\n",
      " [3.  0.2]\n",
      " [3.2 0.2]\n",
      " [3.1 0.2]\n",
      " [3.6 0.2]\n",
      " [3.9 0.4]\n",
      " [3.4 0.3]\n",
      " [3.4 0.2]\n",
      " [2.9 0.2]\n",
      " [3.1 0.1]\n",
      " [3.7 0.2]\n",
      " [3.4 0.2]\n",
      " [3.  0.1]\n",
      " [3.  0.1]\n",
      " [4.  0.2]\n",
      " [4.4 0.4]\n",
      " [3.9 0.4]\n",
      " [3.5 0.3]\n",
      " [3.8 0.3]\n",
      " [3.8 0.3]\n",
      " [3.4 0.2]\n",
      " [3.7 0.4]\n",
      " [3.6 0.2]\n",
      " [3.3 0.5]\n",
      " [3.4 0.2]\n",
      " [3.  0.2]\n",
      " [3.4 0.4]\n",
      " [3.5 0.2]\n",
      " [3.4 0.2]\n",
      " [3.2 0.2]\n",
      " [3.1 0.2]\n",
      " [3.4 0.4]\n",
      " [4.1 0.1]\n",
      " [4.2 0.2]\n",
      " [3.1 0.1]\n",
      " [3.2 0.2]\n",
      " [3.5 0.2]\n",
      " [3.1 0.1]\n",
      " [3.  0.2]\n",
      " [3.4 0.2]\n",
      " [3.5 0.3]\n",
      " [2.3 0.3]\n",
      " [3.2 0.2]\n",
      " [3.5 0.6]\n",
      " [3.8 0.4]\n",
      " [3.  0.3]\n",
      " [3.8 0.2]\n",
      " [3.2 0.2]\n",
      " [3.7 0.2]\n",
      " [3.3 0.2]\n",
      " [3.2 1.4]\n",
      " [3.2 1.5]\n",
      " [3.1 1.5]\n",
      " [2.3 1.3]\n",
      " [2.8 1.5]\n",
      " [2.8 1.3]\n",
      " [3.3 1.6]\n",
      " [2.4 1. ]\n",
      " [2.9 1.3]\n",
      " [2.7 1.4]\n",
      " [2.  1. ]\n",
      " [3.  1.5]\n",
      " [2.2 1. ]\n",
      " [2.9 1.4]\n",
      " [2.9 1.3]\n",
      " [3.1 1.4]\n",
      " [3.  1.5]\n",
      " [2.7 1. ]\n",
      " [2.2 1.5]\n",
      " [2.5 1.1]\n",
      " [3.2 1.8]\n",
      " [2.8 1.3]\n",
      " [2.5 1.5]\n",
      " [2.8 1.2]\n",
      " [2.9 1.3]\n",
      " [3.  1.4]\n",
      " [2.8 1.4]\n",
      " [3.  1.7]\n",
      " [2.9 1.5]\n",
      " [2.6 1. ]\n",
      " [2.4 1.1]\n",
      " [2.4 1. ]\n",
      " [2.7 1.2]\n",
      " [2.7 1.6]\n",
      " [3.  1.5]\n",
      " [3.4 1.6]\n",
      " [3.1 1.5]\n",
      " [2.3 1.3]\n",
      " [3.  1.3]\n",
      " [2.5 1.3]\n",
      " [2.6 1.2]\n",
      " [3.  1.4]\n",
      " [2.6 1.2]\n",
      " [2.3 1. ]\n",
      " [2.7 1.3]\n",
      " [3.  1.2]\n",
      " [2.9 1.3]\n",
      " [2.9 1.3]\n",
      " [2.5 1.1]\n",
      " [2.8 1.3]\n",
      " [3.3 2.5]\n",
      " [2.7 1.9]\n",
      " [3.  2.1]\n",
      " [2.9 1.8]\n",
      " [3.  2.2]\n",
      " [3.  2.1]\n",
      " [2.5 1.7]\n",
      " [2.9 1.8]\n",
      " [2.5 1.8]\n",
      " [3.6 2.5]\n",
      " [3.2 2. ]\n",
      " [2.7 1.9]\n",
      " [3.  2.1]\n",
      " [2.5 2. ]\n",
      " [2.8 2.4]\n",
      " [3.2 2.3]\n",
      " [3.  1.8]\n",
      " [3.8 2.2]\n",
      " [2.6 2.3]\n",
      " [2.2 1.5]\n",
      " [3.2 2.3]\n",
      " [2.8 2. ]\n",
      " [2.8 2. ]\n",
      " [2.7 1.8]\n",
      " [3.3 2.1]\n",
      " [3.2 1.8]\n",
      " [2.8 1.8]\n",
      " [3.  1.8]\n",
      " [2.8 2.1]\n",
      " [3.  1.6]\n",
      " [2.8 1.9]\n",
      " [3.8 2. ]\n",
      " [2.8 2.2]\n",
      " [2.8 1.5]\n",
      " [2.6 1.4]\n",
      " [3.  2.3]\n",
      " [3.4 2.4]\n",
      " [3.1 1.8]\n",
      " [3.  1.8]\n",
      " [3.1 2.1]\n",
      " [3.1 2.4]\n",
      " [3.1 2.3]\n",
      " [2.7 1.9]\n",
      " [3.2 2.3]\n",
      " [3.3 2.5]\n",
      " [3.  2.3]\n",
      " [2.5 1.9]\n",
      " [3.  2. ]\n",
      " [3.4 2.3]\n",
      " [3.  1.8]]\n"
     ]
    }
   ],
   "source": [
    "#now choose features to use sepel width and sepel width \n",
    "X = irisDataset1.iloc[:,[1,3]].values\n",
    "print(X)"
   ]
  },
  {
   "cell_type": "code",
   "execution_count": 13,
   "metadata": {},
   "outputs": [],
   "source": [
    "##using elbow method to determine WCSS of each cluster\n",
    "\n",
    "from sklearn.cluster import KMeans\n",
    "wcss = []\n",
    "for i in range(1,11):\n",
    "    #using k means techniquee to initiate\n",
    "    kmeans = KMeans(n_clusters = i, init= 'k-means++', random_state =42)\n",
    "    #fitting lenghts in the function\n",
    "    kmeans.fit(X)\n",
    "    #than saves these value in empty list\n",
    "    wcss.append(kmeans.inertia_)"
   ]
  },
  {
   "cell_type": "code",
   "execution_count": 14,
   "metadata": {},
   "outputs": [
    {
     "data": {
      "image/png": "[encoded data removed]",
      "text/plain": [
       "<Figure size 432x288 with 1 Axes>"
      ]
     },
     "metadata": {},
     "output_type": "display_data"
    }
   ],
   "source": [
    "# now plot the elbow graph \n",
    "import seaborn as sns\n",
    "sns.set() # for better visualization\n",
    "\n",
    "plt.plot(range(1,11),wcss)\n",
    "plt.title(\"Elbow Graph\")\n",
    "plt.xlabel(\"Number of Clusters\")\n",
    "plt.ylabel(\"WCSS\")\n",
    "plt.show()"
   ]
  },
  {
   "cell_type": "code",
   "execution_count": 18,
   "metadata": {},
   "outputs": [
    {
     "name": "stdout",
     "output_type": "stream",
     "text": [
      "[0 0 0 0 0 0 0 0 0 0 0 0 0 0 0 0 0 0 0 0 0 0 0 0 0 0 0 0 0 0 0 0 0 0 0 0 0\n",
      " 0 0 0 0 2 0 0 0 0 0 0 0 0 2 2 2 2 2 2 1 2 2 2 2 2 2 2 2 2 2 2 2 2 1 2 2 2\n",
      " 2 2 2 1 2 2 2 2 2 2 2 1 2 2 2 2 2 2 2 2 2 2 2 2 2 2 1 1 1 1 1 1 2 1 2 1 1\n",
      " 1 1 1 1 1 1 1 1 2 1 1 1 1 1 1 1 1 1 2 1 1 1 2 2 1 1 1 1 1 1 1 1 1 1 1 1 1\n",
      " 1 1]\n"
     ]
    }
   ],
   "source": [
    "   \n",
    "#using k means again since now we know there are 3 clusters\n",
    "kmeans = KMeans(n_clusters = 3, init= 'k-means++', random_state =0)\n",
    "#fitting lenghts in the function also labeling each clusters\n",
    "y = kmeans.fit_predict(X)\n",
    "print(y)"
   ]
  },
  {
   "cell_type": "code",
   "execution_count": 24,
   "metadata": {},
   "outputs": [
    {
     "data": {
      "image/png": "[encoded data removed]",
      "text/plain": [
       "<Figure size 432x288 with 1 Axes>"
      ]
     },
     "metadata": {},
     "output_type": "display_data"
    }
   ],
   "source": [
    "# finally Visulaizing clusters\n",
    "#for cluster 0\n",
    "plt.scatter(X[y==0,0],X[y==0,1],s =50, c ='red', label = 'Cluster1')\n",
    "#for cluster 1\n",
    "plt.scatter(X[y==1,0],X[y==1,1],s =50, c ='blue', label = 'Cluster2') # all the vlaue of for whic y value is 1\n",
    "#for cluster 2\n",
    "plt.scatter(X[y==2,0],X[y==2,1],s =50, c ='yellow', label = 'Cluster3')\n",
    "\n",
    "#now to plot centroid which kmeans predict\n",
    "plt.scatter (kmeans.cluster_centers_[:,0],kmeans.cluster_centers_[:,1], s= 100, label = 'Centroids')\n",
    "\n",
    "plt.title(\"Iris Flower Cluster\")\n",
    "plt.xlabel('Sepel Width')\n",
    "plt.ylabel('Petel Width')\n",
    "plt.legend()# put labels in graph \n",
    "plt.show()"
   ]
  },
  {
   "cell_type": "code",
   "execution_count": null,
   "metadata": {},
   "outputs": [],
   "source": []
  }
 ],
 "metadata": {
  "kernelspec": {
   "display_name": "Python 3",
   "language": "python",
   "name": "python3"
  },
  "language_info": {
   "codemirror_mode": {
    "name": "ipython",
    "version": 3
   },
   "file_extension": ".py",
   "mimetype": "text/x-python",
   "name": "python",
   "nbconvert_exporter": "python",
   "pygments_lexer": "ipython3",
   "version": "3.8.5"
  }
 },
 "nbformat": 4,
 "nbformat_minor": 4
}
